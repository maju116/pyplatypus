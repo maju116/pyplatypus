{
 "cells": [
  {
   "cell_type": "markdown",
   "id": "6f794614",
   "metadata": {},
   "source": [
    "# The data\n",
    "This notebook aims at presenting the process of creating the end-to-end modelling pipeline with the use of [PyPlatypus](https://github.com/maju116/pyplatypus) package.\n",
    "\n",
    "As starting point, the data is crucial, let's proceed with gathering it hence. We will be working with the nuclei-related images of which the [2018 Data Science Bowl dataset](https://www.kaggle.com/c/data-science-bowl-2018/data) is composed. These are PNG files organized in accordance with the following structure:\n",
    "\n",
    "stage1_data\n",
    "\n",
    "----|image_name\n",
    "\n",
    "--------|images\n",
    "\n",
    "------------|image.png\n",
    "\n",
    "--------|masks\n",
    "\n",
    "------------|mask1.png\n",
    "\n",
    "------------|mask2.png\n",
    "\n",
    "In the \"images\" folder you will find an image of shape (256, 256, 4) with the values varying from 0 to 1, while the masks are just (256, 256) matrices with the values coming from the discrete set: {0, 1}."
   ]
  },
  {
   "cell_type": "markdown",
   "id": "ee48c2f3",
   "metadata": {},
   "source": [
    "# The preparation\n",
    "After downloading the data, unpack it and move to any preferred destination. For this example we will be interested only in stage1_train and stage1_test subdirectories, thus other files could be put aside. Let's take a look at the exemplary image."
   ]
  },
  {
   "cell_type": "code",
   "execution_count": 4,
   "id": "b53074b0",
   "metadata": {},
   "outputs": [],
   "source": [
    "from pathlib import Path\n",
    "import os\n",
    "# 20% for validation\n",
    "data_path = Path(\"data/data_science_bowl/\")\n",
    "models_path = Path(\"models/\")\n",
    "\n",
    "example = \"0a7d30b252359a10fd298b638b90cb9ada3acced4e0c0e5a3692013f432ee4e9\"\n",
    "train_image = os.listdir(data_path/Path(f\"stage1_train/{example}/images\"), )\n",
    "train_masks = os.listdir(data_path/Path(f\"stage1_train/{example}/masks\"))"
   ]
  },
  {
   "cell_type": "code",
   "execution_count": 35,
   "id": "0cf9b859",
   "metadata": {},
   "outputs": [],
   "source": [
    "from matplotlib import pyplot as plt\n",
    "# Load the image along with on of the masks associated\n",
    "example_image = plt.imread(data_path/Path(f\"stage1_train/{example}/images/{train_image[0]}\"))\n",
    "example_mask1 = plt.imread(data_path/Path(f\"stage1_train/{example}/masks/{train_masks[0]}\"))\n",
    "example_mask2 = plt.imread(data_path/Path(f\"stage1_train/{example}/masks/{train_masks[2]}\"))"
   ]
  },
  {
   "cell_type": "code",
   "execution_count": 37,
   "id": "022a903b",
   "metadata": {},
   "outputs": [
    {
     "data": {
      "text/plain": [
       "Text(0.5, 1.0, 'Original image with the masks in yellow.')"
      ]
     },
     "execution_count": 37,
     "metadata": {},
     "output_type": "execute_result"
    },
    {
     "data": {
      "image/png": "[encoded data removed]",
      "text/plain": [
       "<Figure size 432x288 with 1 Axes>"
      ]
     },
     "metadata": {
      "needs_background": "light"
     },
     "output_type": "display_data"
    }
   ],
   "source": [
    "plt.figure()\n",
    "plt.imshow(example_image, alpha=0.6)\n",
    "plt.imshow(example_mask1, alpha=0.2)\n",
    "plt.imshow(example_mask2, alpha=0.2)\n",
    "plt.title(\"Original image with the masks in yellow.\")"
   ]
  },
  {
   "cell_type": "markdown",
   "id": "fdfa8062",
   "metadata": {},
   "source": [
    "What you see as the yellow area is the \"Segmentation mask\" which is simply telling us which pixel belongs to which class. Assesing this membership is the goal that we are striving to achieve."
   ]
  },
  {
   "cell_type": "markdown",
   "id": "ebe4c771",
   "metadata": {},
   "source": [
    "# Splitting the data\n",
    "For the modeling, beside train and test sets, we will need a validation set for it is common good practice to have one.\n",
    "Feel free to use the following script but beware, it will move a sample set of images from yout stage1_train folder to the stage1_validation."
   ]
  },
  {
   "cell_type": "code",
   "execution_count": 56,
   "id": "9dc588ca",
   "metadata": {},
   "outputs": [],
   "source": [
    "from glob import glob\n",
    "from random import sample\n",
    "from shutil import move\n",
    "\n",
    "def create_validation_set(data_path, p=0.2):\n",
    "    train_images = glob(str(data_path/Path(\"stage1_train/*\")))\n",
    "    # Validation set size (as percentage)\n",
    "    p = 0.2\n",
    "    validation_images = sample(train_images, round(p*len(train_images)))\n",
    "    Path.mkdir(data_path/Path(\"stage1_validation\"))\n",
    "    for img_path in validation_images:\n",
    "        trimmed_path = Path(img_path).stem\n",
    "        move(img_path, str(data_path/Path(f\"stage1_validation/{trimmed_path}\")))"
   ]
  },
  {
   "cell_type": "markdown",
   "id": "8286c18a",
   "metadata": {},
   "source": [
    "Let's now inspect the input message that we are to send to PlatypusSolver in order to run it."
   ]
  },
  {
   "cell_type": "code",
   "execution_count": 65,
   "id": "30887aee",
   "metadata": {},
   "outputs": [
    {
     "name": "stdout",
     "output_type": "stream",
     "text": [
      "{\n",
      "    \"augmentation\": {\n",
      "        \"Blur\": {\n",
      "            \"always_apply\": false,\n",
      "            \"blur_limit\": 7,\n",
      "            \"p\": 0.5\n",
      "        },\n",
      "        \"Flip\": {\n",
      "            \"always_apply\": false,\n",
      "            \"p\": 0.5\n",
      "        },\n",
      "        \"RandomRotate90\": {\n",
      "            \"always_apply\": false,\n",
      "            \"p\": 0.5\n",
      "        },\n",
      "        \"ToFloat\": {\n",
      "            \"always_apply\": true,\n",
      "            \"max_value\": 255,\n",
      "            \"p\": 1.0\n",
      "        }\n",
      "    },\n",
      "    \"object_detection\": null,\n",
      "    \"semantic_segmentation\": {\n",
      "        \"data\": {\n",
      "            \"colormap\": [\n",
      "                [\n",
      "                    0,\n",
      "                    0,\n",
      "                    0\n",
      "                ],\n",
      "                [\n",
      "                    1,\n",
      "                    1,\n",
      "                    1\n",
      "                ]\n",
      "            ],\n",
      "            \"column_sep\": \";\",\n",
      "            \"loss\": \"focal loss\",\n",
      "            \"metrics\": [\n",
      "                \"tversky coefficient\",\n",
      "                \"iou coefficient\"\n",
      "            ],\n",
      "            \"mode\": \"nested_dirs\",\n",
      "            \"optimizer\": \"adam\",\n",
      "            \"shuffle\": false,\n",
      "            \"subdirs\": [\n",
      "                \"images\",\n",
      "                \"masks\"\n",
      "            ],\n",
      "            \"test_path\": \"examples/data/data_science_bowl/stage1_test\",\n",
      "            \"train_path\": \"examples/data/data_science_bowl/stage1_train\",\n",
      "            \"validation_path\": \"examples/data/data_science_bowl/stage1_validation\"\n",
      "        },\n",
      "        \"models\": [\n",
      "            {\n",
      "                \"activation_layer\": \"relu\",\n",
      "                \"batch_normalization\": true,\n",
      "                \"batch_size\": 32,\n",
      "                \"blocks\": 4,\n",
      "                \"deep_supervision\": false,\n",
      "                \"dropout\": 0.2,\n",
      "                \"epochs\": 100,\n",
      "                \"filters\": 16,\n",
      "                \"grayscale\": false,\n",
      "                \"h_splits\": 0,\n",
      "                \"kernel_initializer\": \"he_normal\",\n",
      "                \"linknet\": false,\n",
      "                \"n_class\": 2,\n",
      "                \"name\": \"res_u_net\",\n",
      "                \"net_h\": 256,\n",
      "                \"net_w\": 256,\n",
      "                \"plus_plus\": false,\n",
      "                \"resunet\": true,\n",
      "                \"u_net_conv_block_width\": 4,\n",
      "                \"use_separable_conv2d\": true,\n",
      "                \"use_spatial_droput2d\": true,\n",
      "                \"use_up_sampling2d\": false,\n",
      "                \"w_splits\": 0\n",
      "            },\n",
      "            {\n",
      "                \"batch_normalization\": true,\n",
      "                \"batch_size\": 8,\n",
      "                \"blocks\": 2,\n",
      "                \"deep_supervision\": true,\n",
      "                \"dropout\": 0.2,\n",
      "                \"epochs\": 5,\n",
      "                \"filters\": 16,\n",
      "                \"grayscale\": false,\n",
      "                \"h_splits\": 0,\n",
      "                \"kernel_initializer\": \"he_normal\",\n",
      "                \"linknet\": false,\n",
      "                \"n_class\": 2,\n",
      "                \"name\": \"u_net_plus_plus\",\n",
      "                \"net_h\": 256,\n",
      "                \"net_w\": 256,\n",
      "                \"plus_plus\": true,\n",
      "                \"type\": \"u_net\",\n",
      "                \"use_separable_conv2d\": true,\n",
      "                \"use_spatial_dropout2d\": true,\n",
      "                \"use_up_sampling2d\": true,\n",
      "                \"w_splits\": 0\n",
      "            }\n",
      "        ]\n",
      "    }\n",
      "}\n"
     ]
    }
   ],
   "source": [
    "import yaml\n",
    "import json\n",
    "with open(r\"data_science_bowl_config.yaml\") as stream:\n",
    "    config = yaml.safe_load(stream)\n",
    "    print(json.dumps(config, indent=4, sort_keys=True))"
   ]
  },
  {
   "cell_type": "markdown",
   "id": "43e1c432",
   "metadata": {},
   "source": [
    "What might have struck you is that the config is organized so that it might potentially tell the Solver to train multiple models while using a complex augmentation pipeline and loss functions coming from the rather large set of ones available within the PyPlatypus framework."
   ]
  },
  {
   "attachments": {
    "68747470733a2f2f69322e77702e636f6d2f6e657074756e652e61692f77702d636f6e74656e742f75706c6f6164732f552d6e65742d6172636869746563747572652e706e673f73736c3d31.webp": {
     "image/webp": "[encoded data removed]"
    }
   },
   "cell_type": "markdown",
   "id": "26157ccb",
   "metadata": {},
   "source": [
    "![68747470733a2f2f69322e77702e636f6d2f6e657074756e652e61692f77702d636f6e74656e742f75706c6f6164732f552d6e65742d6172636869746563747572652e706e673f73736c3d31.webp](attachment:68747470733a2f2f69322e77702e636f6d2f6e657074756e652e61692f77702d636f6e74656e742f75706c6f6164732f552d6e65742d6172636869746563747572652e706e673f73736c3d31.webp)"
   ]
  },
  {
   "cell_type": "markdown",
   "id": "21d6b65b",
   "metadata": {},
   "source": [
    "# The model\n",
    "\n",
    "The models present in the PyPlatypus segmentation submodule are U-Net based.\n",
    "\n",
    "U-Net was originally developed for biomedical data segmentation. As you can see in the picture above architecture is very similar to autoencoder and it looks like the letter U, hence the name. Model is composed of 2 parts, and each part has some number of convolutional blocks (3 in the image above). Number of blocks will be hyperparameter in our model.\n",
    "\n",
    "To build a U-Net model in platypus use u_net function. You have to specify:\n",
    "\n",
    "* Number of convolutional blocks,\n",
    "* Input image height and width - it need not to be in the form 2^N, as we added the generalizng layer.\n",
    "* Indicator determining if the input image will be loaded as grayscale or RGB.\n",
    "* Number of classes - in our case we have only 2 (background and nuclei).\n",
    "* Additional arguments for CNN such as: number of filters, dropout rate etc.\n",
    "\n",
    "Hereafter the models' building process is rather straightforward."
   ]
  },
  {
   "cell_type": "code",
   "execution_count": null,
   "id": "5f3d13ec",
   "metadata": {},
   "outputs": [],
   "source": [
    "from platypus.solvers.platypus_cv_solver import PlatypusSolver\n",
    "\n",
    "\n",
    "ps = PlatypusSolver(\n",
    "    config_yaml_path=Path(\"examples/data_science_bowl_config.yaml\")\n",
    ")\n",
    "ps.train()"
   ]
  },
  {
   "cell_type": "markdown",
   "id": "f1cbe71f",
   "metadata": {},
   "source": [
    "# Predictions\n",
    "\n",
    "Only after do we train the models, we can easily produce predicted masks based on the validation set or whatever data that we would like to use, just make sure it is organized as in the train/validation/test sets."
   ]
  },
  {
   "cell_type": "code",
   "execution_count": 66,
   "id": "88016897",
   "metadata": {},
   "outputs": [],
   "source": [
    "# Clean the results of former runs\n",
    "from glob import glob\n",
    "from shutil import rmtree\n",
    "masks = glob(str(data_path/\"stage1_validation/**/predicted_*\"))\n",
    "for mask in masks:\n",
    "    rmtree(mask)\n"
   ]
  },
  {
   "cell_type": "code",
   "execution_count": null,
   "id": "f4b2d544",
   "metadata": {},
   "outputs": [],
   "source": [
    "# When the custom_data_path is set to None, the validation data will be used.\n",
    "# If that is not the intention of yours, feel free to point the engine to any other direction.\n",
    "ps.produce_and_save_predicted_masks_for_model(model_name=\"u_net_plus_plus\", custom_data_path=None)"
   ]
  }
 ],
 "metadata": {
  "kernelspec": {
   "display_name": "Python 3 (ipykernel)",
   "language": "python",
   "name": "python3"
  },
  "language_info": {
   "codemirror_mode": {
    "name": "ipython",
    "version": 3
   },
   "file_extension": ".py",
   "mimetype": "text/x-python",
   "name": "python",
   "nbconvert_exporter": "python",
   "pygments_lexer": "ipython3",
   "version": "3.9.0"
  }
 },
 "nbformat": 4,
 "nbformat_minor": 5
}
